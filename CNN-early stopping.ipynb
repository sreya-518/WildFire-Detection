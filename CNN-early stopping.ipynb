{
 "cells": [
  {
   "cell_type": "code",
   "execution_count": 1,
   "id": "9c665965",
   "metadata": {},
   "outputs": [],
   "source": [
    "import os\n",
    "import random\n",
    "import numpy as np\n",
    "import tensorflow as tf\n",
    "from tensorflow.keras import layers, models\n",
    "from sklearn.model_selection import train_test_split\n",
    "from sklearn.preprocessing import LabelEncoder\n",
    "from sklearn.metrics import classification_report\n",
    "from tensorflow.keras.callbacks import EarlyStopping"
   ]
  },
  {
   "cell_type": "code",
   "execution_count": 2,
   "id": "9fd0b8b2",
   "metadata": {},
   "outputs": [],
   "source": [
    "seed = 42\n",
    "random.seed(seed)\n",
    "np.random.seed(seed)\n",
    "tf.random.set_seed(seed)"
   ]
  },
  {
   "cell_type": "code",
   "execution_count": 3,
   "id": "debf358f",
   "metadata": {},
   "outputs": [],
   "source": [
    "train_dir = \"/Users/sreyakaruturi/Downloads/FOREST_FIRE_SMOKE_AND_NON_FIRE_DATASET/train\"\n",
    "test_dir = \"/Users/sreyakaruturi/Downloads/FOREST_FIRE_SMOKE_AND_NON_FIRE_DATASET/test\""
   ]
  },
  {
   "cell_type": "code",
   "execution_count": 4,
   "id": "8984c0e2",
   "metadata": {},
   "outputs": [],
   "source": [
    "def load_images(directory, batch_size=1024):\n",
    "    images = []\n",
    "    labels = []\n",
    "    label_encoder = LabelEncoder()\n",
    "\n",
    "    for label in os.listdir(directory):\n",
    "        label_path = os.path.join(directory, label)\n",
    "        if os.path.isdir(label_path):\n",
    "            files = os.listdir(label_path)\n",
    "            random.shuffle(files)  # Shuffle the files to load a random subset\n",
    "            for image_file in files[:batch_size]:\n",
    "                image_path = os.path.join(label_path, image_file)\n",
    "                # Load and preprocess images as needed\n",
    "                img = tf.keras.preprocessing.image.load_img(image_path, target_size=(224, 224))\n",
    "                img = tf.keras.preprocessing.image.img_to_array(img)\n",
    "                img = tf.keras.applications.resnet50.preprocess_input(img)\n",
    "\n",
    "                images.append(img)\n",
    "                labels.append(label)\n",
    "\n",
    "    labels = label_encoder.fit_transform(labels)\n",
    "\n",
    "    return np.array(images), np.array(labels)"
   ]
  },
  {
   "cell_type": "code",
   "execution_count": 5,
   "id": "ee72c316",
   "metadata": {},
   "outputs": [
    {
     "name": "stdout",
     "output_type": "stream",
     "text": [
      "Found 32398 images belonging to 3 classes.\n",
      "Found 10500 images belonging to 3 classes.\n"
     ]
    }
   ],
   "source": [
    "from tensorflow.keras.preprocessing.image import ImageDataGenerator\n",
    "\n",
    "datagen = ImageDataGenerator(\n",
    "    # Specify your preprocessing options here\n",
    ")\n",
    "\n",
    "train_generator = datagen.flow_from_directory(\n",
    "    train_dir,\n",
    "    target_size=(224, 224),\n",
    "    batch_size=1024,  # Adjust batch size as needed\n",
    "    class_mode='sparse'\n",
    ")\n",
    "\n",
    "test_generator = datagen.flow_from_directory(\n",
    "    test_dir,\n",
    "    target_size=(224, 224),\n",
    "    batch_size=1024,\n",
    "    class_mode='sparse'\n",
    ")"
   ]
  },
  {
   "cell_type": "code",
   "execution_count": 6,
   "id": "6d2ad89d",
   "metadata": {},
   "outputs": [],
   "source": [
    "X_train, y_train = load_images(train_dir)\n",
    "X_test, y_test = load_images(test_dir)\n",
    "X_train, X_val, y_train, y_val = train_test_split(X_train, y_train, test_size=0.2, random_state=seed)"
   ]
  },
  {
   "cell_type": "code",
   "execution_count": 7,
   "id": "4288c460",
   "metadata": {},
   "outputs": [
    {
     "name": "stdout",
     "output_type": "stream",
     "text": [
      "Epoch 1/20\n",
      "77/77 [==============================] - 56s 714ms/step - loss: 23.6500 - accuracy: 0.7806 - val_loss: 0.3906 - val_accuracy: 0.8602\n",
      "Epoch 2/20\n",
      "77/77 [==============================] - 29s 376ms/step - loss: 0.3478 - accuracy: 0.8820 - val_loss: 0.3245 - val_accuracy: 0.8862\n",
      "Epoch 3/20\n",
      "77/77 [==============================] - 27s 356ms/step - loss: 0.2387 - accuracy: 0.9259 - val_loss: 0.4682 - val_accuracy: 0.8098\n",
      "Epoch 4/20\n",
      "77/77 [==============================] - 34s 439ms/step - loss: 0.2044 - accuracy: 0.9430 - val_loss: 0.3902 - val_accuracy: 0.9089\n",
      "Epoch 5/20\n",
      "77/77 [==============================] - 48s 624ms/step - loss: 0.1121 - accuracy: 0.9666 - val_loss: 0.3740 - val_accuracy: 0.9041\n",
      "Epoch 6/20\n",
      "77/77 [==============================] - 47s 615ms/step - loss: 0.0746 - accuracy: 0.9796 - val_loss: 0.7179 - val_accuracy: 0.8780\n",
      "Epoch 7/20\n",
      "77/77 [==============================] - 46s 597ms/step - loss: 0.0565 - accuracy: 0.9829 - val_loss: 0.6517 - val_accuracy: 0.9024\n",
      "Epoch 8/20\n",
      "77/77 [==============================] - 46s 592ms/step - loss: 0.2205 - accuracy: 0.9422 - val_loss: 0.7821 - val_accuracy: 0.8325\n",
      "96/96 [==============================] - 15s 153ms/step - loss: 0.4660 - accuracy: 0.8037\n",
      "CNN Model Accuracy: 0.8037109375\n"
     ]
    }
   ],
   "source": [
    "\n",
    "\n",
    "def create_cnn_model(input_shape):\n",
    "    model = models.Sequential()\n",
    "    model.add(layers.Conv2D(32, (3, 3), activation='relu', input_shape=input_shape))\n",
    "    model.add(layers.MaxPooling2D((2, 2)))\n",
    "    model.add(layers.Conv2D(64, (3, 3), activation='relu'))\n",
    "    model.add(layers.MaxPooling2D((2, 2)))\n",
    "    model.add(layers.Conv2D(128, (3, 3), activation='relu'))\n",
    "    model.add(layers.MaxPooling2D((2, 2)))\n",
    "    model.add(layers.Flatten())\n",
    "    model.add(layers.Dense(128, activation='relu'))\n",
    "    model.add(layers.Dense(3, activation='softmax'))  \n",
    "\n",
    "    model.compile(optimizer='adam', loss='sparse_categorical_crossentropy', metrics=['accuracy'])\n",
    "    return model\n",
    "\n",
    "input_shape = X_train[0].shape\n",
    "cnn_model = create_cnn_model(input_shape)\n",
    "early_stopping = EarlyStopping(monitor='val_loss', patience=6, restore_best_weights=True)\n",
    "history_transfer_learning = cnn_model.fit(X_train, y_train, epochs=20, validation_data=(X_val, y_val), callbacks=[early_stopping])\n",
    "cnn_loss, cnn_accuracy = cnn_model.evaluate(X_test, y_test)\n",
    "print(f\"CNN Model Accuracy: {cnn_accuracy}\")"
   ]
  },
  {
   "cell_type": "code",
   "execution_count": null,
   "id": "cef9b1d8",
   "metadata": {},
   "outputs": [],
   "source": []
  }
 ],
 "metadata": {
  "kernelspec": {
   "display_name": "Python 3 (ipykernel)",
   "language": "python",
   "name": "python3"
  },
  "language_info": {
   "codemirror_mode": {
    "name": "ipython",
    "version": 3
   },
   "file_extension": ".py",
   "mimetype": "text/x-python",
   "name": "python",
   "nbconvert_exporter": "python",
   "pygments_lexer": "ipython3",
   "version": "3.11.5"
  }
 },
 "nbformat": 4,
 "nbformat_minor": 5
}
