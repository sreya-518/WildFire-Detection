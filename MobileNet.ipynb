{
 "cells": [
  {
   "cell_type": "code",
   "execution_count": 1,
   "id": "0025ab9a",
   "metadata": {},
   "outputs": [
    {
     "name": "stdout",
     "output_type": "stream",
     "text": [
      "WARNING:tensorflow:From D:\\mmds\\Lib\\site-packages\\keras\\src\\losses.py:2976: The name tf.losses.sparse_softmax_cross_entropy is deprecated. Please use tf.compat.v1.losses.sparse_softmax_cross_entropy instead.\n",
      "\n"
     ]
    }
   ],
   "source": [
    "import os\n",
    "import tensorflow as tf\n",
    "from tensorflow.keras.preprocessing.image import ImageDataGenerator\n",
    "from tensorflow.keras.applications import MobileNetV2\n",
    "from tensorflow.keras import layers, models"
   ]
  },
  {
   "cell_type": "code",
   "execution_count": 2,
   "id": "a4db78bb",
   "metadata": {},
   "outputs": [],
   "source": [
    "train_dir = r'C:\\Users\\Administrator\\Downloads\\FOREST_FIRE_SMOKE_AND_NON_FIRE_DATASET\\train'\n",
    "test_dir = r'C:\\Users\\Administrator\\Downloads\\FOREST_FIRE_SMOKE_AND_NON_FIRE_DATASET\\test'"
   ]
  },
  {
   "cell_type": "code",
   "execution_count": 3,
   "id": "ad7ab67a",
   "metadata": {},
   "outputs": [],
   "source": [
    "batch_size = 32\n",
    "img_size = (224, 224)\n",
    "epochs = 20"
   ]
  },
  {
   "cell_type": "code",
   "execution_count": 4,
   "id": "ac3f8e4a",
   "metadata": {},
   "outputs": [],
   "source": [
    "train_datagen = ImageDataGenerator(\n",
    "    rescale=1./255,\n",
    "    shear_range=0.2,\n",
    "    zoom_range=0.2,\n",
    "    horizontal_flip=True\n",
    ")\n",
    "\n",
    "# Rescaling for the test set\n",
    "test_datagen = ImageDataGenerator(rescale=1./255)"
   ]
  },
  {
   "cell_type": "code",
   "execution_count": 5,
   "id": "8d38da09",
   "metadata": {},
   "outputs": [
    {
     "name": "stdout",
     "output_type": "stream",
     "text": [
      "Found 32398 images belonging to 3 classes.\n",
      "Found 10500 images belonging to 3 classes.\n"
     ]
    }
   ],
   "source": [
    "train_generator = train_datagen.flow_from_directory(\n",
    "    train_dir,\n",
    "    target_size=img_size,\n",
    "    batch_size=batch_size,\n",
    "    class_mode='categorical'\n",
    ")\n",
    "test_generator = test_datagen.flow_from_directory(\n",
    "    test_dir,\n",
    "    target_size=img_size,\n",
    "    batch_size=batch_size,\n",
    "    class_mode='categorical',\n",
    "    shuffle=False\n",
    ")"
   ]
  },
  {
   "cell_type": "code",
   "execution_count": 6,
   "id": "12fc0614",
   "metadata": {},
   "outputs": [
    {
     "name": "stdout",
     "output_type": "stream",
     "text": [
      "WARNING:tensorflow:From D:\\mmds\\Lib\\site-packages\\keras\\src\\backend.py:1398: The name tf.executing_eagerly_outside_functions is deprecated. Please use tf.compat.v1.executing_eagerly_outside_functions instead.\n",
      "\n",
      "WARNING:tensorflow:From D:\\mmds\\Lib\\site-packages\\keras\\src\\layers\\normalization\\batch_normalization.py:979: The name tf.nn.fused_batch_norm is deprecated. Please use tf.compat.v1.nn.fused_batch_norm instead.\n",
      "\n",
      "WARNING:tensorflow:From D:\\mmds\\Lib\\site-packages\\keras\\src\\optimizers\\__init__.py:309: The name tf.train.Optimizer is deprecated. Please use tf.compat.v1.train.Optimizer instead.\n",
      "\n",
      "Epoch 1/20\n",
      "WARNING:tensorflow:From D:\\mmds\\Lib\\site-packages\\keras\\src\\utils\\tf_utils.py:492: The name tf.ragged.RaggedTensorValue is deprecated. Please use tf.compat.v1.ragged.RaggedTensorValue instead.\n",
      "\n",
      "WARNING:tensorflow:From D:\\mmds\\Lib\\site-packages\\keras\\src\\engine\\base_layer_utils.py:384: The name tf.executing_eagerly_outside_functions is deprecated. Please use tf.compat.v1.executing_eagerly_outside_functions instead.\n",
      "\n",
      "1013/1013 [==============================] - 1337s 1s/step - loss: 0.1777 - accuracy: 0.9406 - val_loss: 0.1307 - val_accuracy: 0.9526\n",
      "Epoch 2/20\n",
      "1013/1013 [==============================] - 1068s 1s/step - loss: 0.1130 - accuracy: 0.9618 - val_loss: 0.1052 - val_accuracy: 0.9636\n",
      "Epoch 3/20\n",
      "1013/1013 [==============================] - 1039s 1s/step - loss: 0.0972 - accuracy: 0.9694 - val_loss: 0.0989 - val_accuracy: 0.9670\n",
      "Epoch 4/20\n",
      "1013/1013 [==============================] - 1056s 1s/step - loss: 0.0938 - accuracy: 0.9689 - val_loss: 0.1045 - val_accuracy: 0.9616\n",
      "Epoch 5/20\n",
      "1013/1013 [==============================] - 1149s 1s/step - loss: 0.0863 - accuracy: 0.9712 - val_loss: 0.0842 - val_accuracy: 0.9727\n",
      "Epoch 6/20\n",
      "1013/1013 [==============================] - 1074s 1s/step - loss: 0.0829 - accuracy: 0.9731 - val_loss: 0.0877 - val_accuracy: 0.9679\n",
      "Epoch 7/20\n",
      "1013/1013 [==============================] - 1046s 1s/step - loss: 0.0828 - accuracy: 0.9733 - val_loss: 0.0833 - val_accuracy: 0.9718\n",
      "Epoch 8/20\n",
      "1013/1013 [==============================] - 1071s 1s/step - loss: 0.0785 - accuracy: 0.9742 - val_loss: 0.0860 - val_accuracy: 0.9704\n",
      "Epoch 9/20\n",
      "1013/1013 [==============================] - 1135s 1s/step - loss: 0.0797 - accuracy: 0.9738 - val_loss: 0.0825 - val_accuracy: 0.9719\n",
      "Epoch 10/20\n",
      "1013/1013 [==============================] - 1071s 1s/step - loss: 0.0773 - accuracy: 0.9745 - val_loss: 0.0933 - val_accuracy: 0.9667\n",
      "Epoch 11/20\n",
      "1013/1013 [==============================] - 1045s 1s/step - loss: 0.0774 - accuracy: 0.9744 - val_loss: 0.0840 - val_accuracy: 0.9713\n",
      "Epoch 12/20\n",
      "1013/1013 [==============================] - 1080s 1s/step - loss: 0.0759 - accuracy: 0.9757 - val_loss: 0.0993 - val_accuracy: 0.9630\n",
      "Epoch 13/20\n",
      "1013/1013 [==============================] - 1134s 1s/step - loss: 0.0768 - accuracy: 0.9751 - val_loss: 0.0809 - val_accuracy: 0.9720\n",
      "Epoch 14/20\n",
      "1013/1013 [==============================] - 1072s 1s/step - loss: 0.0726 - accuracy: 0.9760 - val_loss: 0.0863 - val_accuracy: 0.9704\n",
      "Epoch 15/20\n",
      "1013/1013 [==============================] - 1050s 1s/step - loss: 0.0708 - accuracy: 0.9772 - val_loss: 0.0816 - val_accuracy: 0.9730\n",
      "Epoch 16/20\n",
      "1013/1013 [==============================] - 1091s 1s/step - loss: 0.0736 - accuracy: 0.9763 - val_loss: 0.0842 - val_accuracy: 0.9699\n",
      "Epoch 17/20\n",
      "1013/1013 [==============================] - 1120s 1s/step - loss: 0.0724 - accuracy: 0.9757 - val_loss: 0.0799 - val_accuracy: 0.9726\n",
      "Epoch 18/20\n",
      "1013/1013 [==============================] - 1064s 1s/step - loss: 0.0727 - accuracy: 0.9755 - val_loss: 0.0850 - val_accuracy: 0.9710\n",
      "Epoch 19/20\n",
      "1013/1013 [==============================] - 1048s 1s/step - loss: 0.0730 - accuracy: 0.9756 - val_loss: 0.0856 - val_accuracy: 0.9707\n",
      "Epoch 20/20\n",
      "1013/1013 [==============================] - 1099s 1s/step - loss: 0.0735 - accuracy: 0.9757 - val_loss: 0.0840 - val_accuracy: 0.9714\n",
      "329/329 [==============================] - 196s 595ms/step - loss: 0.0840 - accuracy: 0.9714\n",
      "Validation Loss: 0.0840, Validation Accuracy: 0.9714\n"
     ]
    }
   ],
   "source": [
    "base_model = MobileNetV2(include_top=False, weights='imagenet', input_shape=(224, 224, 3))\n",
    "base_model.trainable = False\n",
    "\n",
    "model = models.Sequential([\n",
    "    base_model,\n",
    "    layers.GlobalAveragePooling2D(),\n",
    "    layers.Dense(3, activation='softmax')\n",
    "])\n",
    "model.compile(optimizer='adam', loss='categorical_crossentropy', metrics=['accuracy'])\n",
    "history = model.fit(\n",
    "    train_generator,\n",
    "    epochs=epochs,\n",
    "    validation_data=test_generator\n",
    ")\n",
    "val_loss, val_acc = model.evaluate(test_generator)\n",
    "print(f'Validation Loss: {val_loss:.4f}, Validation Accuracy: {val_acc:.4f}')"
   ]
  },
  {
   "cell_type": "code",
   "execution_count": null,
   "id": "d530495f",
   "metadata": {},
   "outputs": [],
   "source": []
  }
 ],
 "metadata": {
  "kernelspec": {
   "display_name": "Python 3 (ipykernel)",
   "language": "python",
   "name": "python3"
  },
  "language_info": {
   "codemirror_mode": {
    "name": "ipython",
    "version": 3
   },
   "file_extension": ".py",
   "mimetype": "text/x-python",
   "name": "python",
   "nbconvert_exporter": "python",
   "pygments_lexer": "ipython3",
   "version": "3.11.5"
  }
 },
 "nbformat": 4,
 "nbformat_minor": 5
}
